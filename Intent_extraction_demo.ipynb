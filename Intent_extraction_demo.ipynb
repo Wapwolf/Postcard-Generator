{
  "nbformat": 4,
  "nbformat_minor": 0,
  "metadata": {
    "colab": {
      "name": "Intent extraction demo.ipynb",
      "provenance": [],
      "authorship_tag": "ABX9TyN202dgEL+/CkOMKHndJbk0",
      "include_colab_link": true
    },
    "kernelspec": {
      "name": "python3",
      "display_name": "Python 3"
    }
  },
  "cells": [
    {
      "cell_type": "markdown",
      "metadata": {
        "id": "view-in-github",
        "colab_type": "text"
      },
      "source": [
        "<a href=\"https://colab.research.google.com/github/Wapwolf/Postcard-Generator/blob/main/Intent_extraction_demo.ipynb\" target=\"_parent\"><img src=\"https://colab.research.google.com/assets/colab-badge.svg\" alt=\"Open In Colab\"/></a>"
      ]
    },
    {
      "cell_type": "code",
      "metadata": {
        "id": "ZOTIDRJSqUPb",
        "outputId": "46755431-b409-4a6d-aca3-24ed4a651f62",
        "colab": {
          "base_uri": "https://localhost:8080/",
          "height": 119
        }
      },
      "source": [
        "!pip install nltk\n",
        "!pip install pymorphy2"
      ],
      "execution_count": 1,
      "outputs": [
        {
          "output_type": "stream",
          "text": [
            "Requirement already satisfied: nltk in /usr/local/lib/python3.6/dist-packages (3.2.5)\n",
            "Requirement already satisfied: six in /usr/local/lib/python3.6/dist-packages (from nltk) (1.15.0)\n",
            "Requirement already satisfied: pymorphy2 in /usr/local/lib/python3.6/dist-packages (0.8)\n",
            "Requirement already satisfied: pymorphy2-dicts<3.0,>=2.4 in /usr/local/lib/python3.6/dist-packages (from pymorphy2) (2.4.393442.3710985)\n",
            "Requirement already satisfied: docopt>=0.6 in /usr/local/lib/python3.6/dist-packages (from pymorphy2) (0.6.2)\n",
            "Requirement already satisfied: dawg-python>=0.7 in /usr/local/lib/python3.6/dist-packages (from pymorphy2) (0.7.2)\n"
          ],
          "name": "stdout"
        }
      ]
    },
    {
      "cell_type": "code",
      "metadata": {
        "id": "jNnFF35-qZdu",
        "outputId": "13e33802-a8fa-4769-aeda-36edf9c4b6e8",
        "colab": {
          "base_uri": "https://localhost:8080/",
          "height": 85
        }
      },
      "source": [
        "import nltk\n",
        "nltk.download('punkt')\n",
        "nltk.download('stopwords')\n",
        "\n",
        "from nltk.corpus import stopwords\n",
        "stopwords = set(stopwords.words(\"russian\"))\n",
        "\n",
        "import pymorphy2\n",
        "morph = pymorphy2.MorphAnalyzer()\n",
        "\n",
        "import string\n",
        "import datetime\n",
        "\n",
        "# import the inflect library \n",
        "import inflect \n",
        "p = inflect.engine() \n",
        "\n",
        "from collections import defaultdict"
      ],
      "execution_count": 2,
      "outputs": [
        {
          "output_type": "stream",
          "text": [
            "[nltk_data] Downloading package punkt to /root/nltk_data...\n",
            "[nltk_data]   Package punkt is already up-to-date!\n",
            "[nltk_data] Downloading package stopwords to /root/nltk_data...\n",
            "[nltk_data]   Package stopwords is already up-to-date!\n"
          ],
          "name": "stdout"
        }
      ]
    },
    {
      "cell_type": "code",
      "metadata": {
        "id": "2I83eVsYolme"
      },
      "source": [
        "input_text = [\"Поздравь бабушку с пасхой. Пожелай ей всего наилучшего\",\n",
        "              \"Передай тёплые слова бабуле. Пожелай ей крепкого здоровья, удачи и успехов\",\n",
        "              \"поздравь с днём рождения бубулю. Бабуле исполнилось 98 лет. Поздравь бабулую с девяностодвухлетием! Бабушка родилась 15.02.1928\",\n",
        "              \"поздравь за меня бабку с троицей\",\n",
        "              \"поздравь ба с 8 марта!!!!!\",\n",
        "              \"поздравь бабу с рожеством\",\n",
        "              \"ПОЗДРАВЬ БАБЕНЬ С НОВЫМ ГОДОМ!!!!!11111\",\n",
        "              \"ба, с юбилеем!\"]\n",
        "\n",
        "#input_text = ['Бабушка, тебе желаю\\nСил, здоровья, красоты.\\nБудь душою молодая,\\nИ себя ты береги.\\nНаходи повсюду радость,\\nУлыбайся и мечтай.\\nВсе тревоги и усталость\\nОт себя ты отпускай.\\nПускай этот день рождения\\nСоберет вокруг родных,\\nИх любовь и уважение\\nСердце счастьем озарит.']"
      ],
      "execution_count": 3,
      "outputs": []
    },
    {
      "cell_type": "code",
      "metadata": {
        "id": "meVu0_nYxVkA",
        "outputId": "cb0fad90-9ed3-4d69-b4af-4bf64966f3c9",
        "colab": {
          "base_uri": "https://localhost:8080/",
          "height": 153
        }
      },
      "source": [
        "def text_lower(text): \n",
        "    return text.lower()\n",
        "\n",
        "# remove punctuation \n",
        "def remove_punctuation(text): \n",
        "    translator = str.maketrans('', '', string.punctuation) \n",
        "    return text.translate(translator)\n",
        "\n",
        "# remove outlayer numbers\n",
        "def remove_outlayer_number(text):\n",
        "      if len(text) == 8 or len(text) == 6:\n",
        "          text = 'birth:' + '.'.join([text[:2],text[2:4],text[4:]]) # объединяем дату рождения\n",
        "\n",
        "      elif text.startswith('19'): # проверяем год ли рождения \n",
        "          text = 'birth:'+ text\n",
        "      else:\n",
        "        text = float(text)\n",
        "        if text >= 0. and text <= 31.0:\n",
        "            text= 'date:' + str(int(text)) # скорее всего это праздник вроде 8 марта\n",
        "        elif text >= 31. and text <= 110.:\n",
        "            text= 'birth:'+ str(int(text))\n",
        "        else:\n",
        "            text =  'ERR'\n",
        "            \n",
        "      return text\n",
        "\n",
        "def preprocess_text(text):\n",
        "    '''\n",
        "    Preprocesses text: \n",
        "    lowercase, tokenize, punctuation deletion, strange date deletion, overall cleaning\n",
        "\n",
        "    Input:\n",
        "    list of strings of sentences\n",
        "\n",
        "    Returns:\n",
        "    list of lists of tokens\n",
        "    ''' \n",
        "    preprocessed_text = []\n",
        "    # all to lowercase\n",
        "    text = text_lower(text)  \n",
        "\n",
        "    # sentence tokenize text                       \n",
        "    sent_list = nltk.sent_tokenize(text, language=\"russian\")  \n",
        "\n",
        "    for sent in sent_list:\n",
        "\n",
        "        #get rid of punctuation\n",
        "        sent = remove_punctuation(sent)\n",
        "\n",
        "        # get\n",
        "        token_list = nltk.word_tokenize(sent, language='russian')\n",
        "        morphed_list = [morph.parse(token)[0].normal_form for token in token_list if token not in stopwords]\n",
        "\n",
        "        # check for strange numbers and delete them\n",
        "        filtered_list = [remove_outlayer_number(token) if token.isdigit() else token  for token in morphed_list]\n",
        "\n",
        "        # #dumb check for years of birth\n",
        "        # filtered_list = [token]\n",
        "        if 'ERR' in filtered_list: filtered_list.remove('ERR')\n",
        "        preprocessed_text.append(filtered_list)\n",
        "\n",
        "    return preprocessed_text\n",
        "\n",
        "def create_intent_dict(text):\n",
        "    ''' \n",
        "    Creates dict of intents. As a baseline\n",
        "\n",
        "    Input:\n",
        "    text is an array of arrays of strings\n",
        "\n",
        "    Returns:\n",
        "    intent_dict, dict\n",
        "\n",
        "    intent_dict structure:\n",
        "          {\n",
        "            name: str, default:\"бабушка\"\n",
        "            holiday: str (one of ['пасха', 'новый год', 'троица', 'день рождения', \n",
        "                                   '8 марта', 'рождество', 'юбилей'])  # TODO ADD MORE HOLIDAYS\n",
        "            birth: str,\n",
        "            date: str,\n",
        "          }\n",
        "    '''\n",
        "    intent_dict = {}\n",
        "    holiday_list = ['пасха', 'новый', 'троица', 'рождение', \n",
        "                    'март', 'рождество', 'юбилей']\n",
        "    intent_dict['name'] = 'бабушка'\n",
        "\n",
        "    text = preprocess_text(text) # предобрабатываем текст\n",
        "\n",
        "    for sentence in text:\n",
        "        for token in sentence:\n",
        "            if token in holiday_list:\n",
        "                if token == \"рождение\":\n",
        "                  token = 'день '+ token\n",
        "                if token == \"новый\":\n",
        "                  token = token+ \" год\"\n",
        "                intent_dict['holiday'] = token\n",
        "            if token.startswith('birth'):\n",
        "                intent_dict['birth'] = token.split(':')[1]\n",
        "            if token.startswith('date'):\n",
        "                intent_dict['date'] = token.split(':')[1]\n",
        "\n",
        "    return intent_dict\n",
        "\n",
        "\n",
        "for text in input_text:\n",
        "    print(create_intent_dict(text))"
      ],
      "execution_count": 5,
      "outputs": [
        {
          "output_type": "stream",
          "text": [
            "{'name': 'бабушка', 'holiday': 'пасха'}\n",
            "{'name': 'бабушка'}\n",
            "{'name': 'бабушка', 'holiday': 'день рождение', 'birth': '15.02.1928'}\n",
            "{'name': 'бабушка', 'holiday': 'троица'}\n",
            "{'name': 'бабушка', 'date': '8', 'holiday': 'март'}\n",
            "{'name': 'бабушка'}\n",
            "{'name': 'бабушка', 'holiday': 'новый год'}\n",
            "{'name': 'бабушка', 'holiday': 'юбилей'}\n"
          ],
          "name": "stdout"
        }
      ]
    },
    {
      "cell_type": "code",
      "metadata": {
        "id": "W84MQQbzXR98"
      },
      "source": [
        ""
      ],
      "execution_count": null,
      "outputs": []
    }
  ]
}